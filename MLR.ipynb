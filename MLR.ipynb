{
 "cells": [
  {
   "cell_type": "markdown",
   "metadata": {},
   "source": [
    "# MLR model construction"
   ]
  },
  {
   "cell_type": "markdown",
   "metadata": {},
   "source": [
    "## Data loading and data analysis"
   ]
  },
  {
   "cell_type": "code",
   "execution_count": 1,
   "metadata": {
    "scrolled": false
   },
   "outputs": [],
   "source": [
    "# import some packages\n",
    "import numpy as np\n",
    "import tensorflow as tf\n",
    "from matplotlib import pyplot as plt\n",
    "import pandas as pd\n",
    "import seaborn as sns"
   ]
  },
  {
   "cell_type": "code",
   "execution_count": 2,
   "metadata": {
    "scrolled": false
   },
   "outputs": [],
   "source": [
    "# read in the data\n",
    "data = pd.read_csv('ps_usable_hydrogen_storage_capacity_gcmcv2.csv')"
   ]
  },
  {
   "cell_type": "markdown",
   "metadata": {},
   "source": [
    "## Information about the data\n",
    "This dataset contains 98,694 different MOFs with 7 structural properties and usable gravimetric storage capacity (UG) and usable volumetric storage capacity (UV) to measure the hydrogen storage capacity of each MOF. \n",
    "\n",
    "7 Structural properties,  2 responses and their units of this dataset are provided as follows:\n",
    "\n",
    "Property | unit\n",
    "--- | ---\n",
    "Density | $$g/cm^3$$\n",
    "Gravimetric surface area (GSA) | $$m^2/g$$\n",
    "Volumetric surface area (VSA) | $$m^2/cm^3$$\n",
    "Void fracion (VF)| \n",
    "Pore volumn (PV)| $$cm^3/g$$\n",
    "Largest cavity diameter (LCD) | $$Å$$\n",
    "Pore limiting diameter (PLD) | $$Å$$\n",
    "Usable gravimetric storage capacity (UG) | $$wt.\\%$$\n",
    "Usable volumetric storage capacity (UV) | $$g/cm^3$$"
   ]
  },
  {
   "cell_type": "markdown",
   "metadata": {},
   "source": [
    "## Data cleaning"
   ]
  },
  {
   "cell_type": "code",
   "execution_count": 3,
   "metadata": {
    "scrolled": false
   },
   "outputs": [],
   "source": [
    "# check the size of the loaded data \n",
    "assert(data.shape[0] == 98694)\n",
    "assert(data.shape[1] == 17)"
   ]
  },
  {
   "cell_type": "markdown",
   "metadata": {},
   "source": [
    "### 1. Column name modifications"
   ]
  },
  {
   "cell_type": "code",
   "execution_count": 4,
   "metadata": {
    "scrolled": false
   },
   "outputs": [],
   "source": [
    "data = data.rename(columns=lambda x: x.rstrip()) # delete the extra space in the end and check it again\n",
    "data = data.rename(columns={'UG at PS':'UG', 'UV at PS': 'UV'}) # simplify some columns' names"
   ]
  },
  {
   "cell_type": "markdown",
   "metadata": {},
   "source": [
    "### 2. Abnormal data removal"
   ]
  },
  {
   "cell_type": "code",
   "execution_count": 5,
   "metadata": {},
   "outputs": [],
   "source": [
    "# remove data whose features are smaller or equal to 0\n",
    "features_name = data.columns[5:12].tolist()\n",
    "for feature in features_name:\n",
    "    data = data.drop(data[data[feature] <= 0].index)"
   ]
  },
  {
   "cell_type": "markdown",
   "metadata": {},
   "source": [
    "## Check missing values"
   ]
  },
  {
   "cell_type": "code",
   "execution_count": 6,
   "metadata": {},
   "outputs": [
    {
     "name": "stdout",
     "output_type": "stream",
     "text": [
      "  Nan of Density: 0\n",
      "  Nan of GSA: 0\n",
      "  Nan of VSA: 0\n",
      "  Nan of VF: 0\n",
      "  Nan of PV: 0\n",
      "  Nan of LCD: 0\n",
      "  Nan of PLD: 0\n"
     ]
    }
   ],
   "source": [
    "def check_nan(col, data):\n",
    "    '''Count the number of nan for a specific column in a dataset.'''\n",
    "    return data.shape[0] - data[col].dropna().size\n",
    "\n",
    "def print_nan(features):\n",
    "    '''Print nan for original_training_data'''\n",
    "    for feature in features:\n",
    "        print('  Nan of ' + str(feature) + ': ' + str(check_nan(feature, data)))\n",
    "\n",
    "print_nan(features_name)"
   ]
  },
  {
   "cell_type": "markdown",
   "metadata": {},
   "source": [
    "Comparing the cleaned dataset and the original one, one can found that there are some abnormal data in this dataset. The structures with features that are smaller or equal to 0 can be due to some possible mistakes when collecting the data and are impossible to shown outstanding hydrogen adsorption performance according to the discovered relationships between these features and adsorption capacity. However, there is no missing value for the 7 features and the 2 responses. "
   ]
  },
  {
   "cell_type": "markdown",
   "metadata": {},
   "source": [
    "# Visulization of the dataset"
   ]
  },
  {
   "cell_type": "markdown",
   "metadata": {},
   "source": [
    "## Distributions of single features and UG/UV"
   ]
  },
  {
   "cell_type": "code",
   "execution_count": 7,
   "metadata": {
    "scrolled": false
   },
   "outputs": [],
   "source": [
    "def plot_dist(data, var_names):\n",
    "    '''Plot the distribution of each variable.'''\n",
    "    for var in var_names:\n",
    "        plt.figure(figsize=(20, 6))\n",
    "        sns.histplot(data[var], kde = True)\n",
    "        plt.xlabel(var, fontsize = 15)\n",
    "        plt.ylabel('Count', fontsize = 15)\n",
    "        \n",
    "features_name.append('UG')\n",
    "features_name.append('UV')\n",
    "#plot_dist(data, features_name)"
   ]
  },
  {
   "cell_type": "markdown",
   "metadata": {},
   "source": [
    "From the above visulizations, one can observe that the distributions of different features and responses are extremely different. Some of them are right skewed while others are left skewed. Also, they have different ranges."
   ]
  },
  {
   "cell_type": "markdown",
   "metadata": {},
   "source": [
    "## Relationship between UV and UG"
   ]
  },
  {
   "cell_type": "code",
   "execution_count": 8,
   "metadata": {},
   "outputs": [
    {
     "data": {
      "text/plain": [
       "(-8.0, 55.0)"
      ]
     },
     "execution_count": 8,
     "metadata": {},
     "output_type": "execute_result"
    },
    {
     "data": {
      "image/png": "[encoded data removed]",
      "text/plain": [
       "<Figure size 432x360 with 1 Axes>"
      ]
     },
     "metadata": {
      "needs_background": "light"
     },
     "output_type": "display_data"
    }
   ],
   "source": [
    "sns.lmplot(x = 'UV', y = 'UG', data = data, aspect = 1.2, truncate = False)\n",
    "plt.title('Relationship between UV and UG', fontsize = 15)\n",
    "plt.xlabel('UV', fontsize = 15)\n",
    "plt.xlim(0, 47)\n",
    "plt.ylabel('UG', fontsize = 15)\n",
    "plt.ylim(-8, 55)"
   ]
  },
  {
   "cell_type": "code",
   "execution_count": 9,
   "metadata": {},
   "outputs": [
    {
     "data": {
      "text/plain": [
       "0.761160782050035"
      ]
     },
     "execution_count": 9,
     "metadata": {},
     "output_type": "execute_result"
    }
   ],
   "source": [
    "r1 = np.corrcoef(data['UV'],data['UG'])[0][1]\n",
    "r1"
   ]
  },
  {
   "cell_type": "markdown",
   "metadata": {},
   "source": [
    "From the above figure, one can see that the linear correlation between the two reponses is not as high as expected. Points with relatively high UG and low UV occur in the dataset. Intuitively, this is related to the low density of these structures. The below visulization proves this assumption."
   ]
  },
  {
   "cell_type": "code",
   "execution_count": 10,
   "metadata": {},
   "outputs": [
    {
     "data": {
      "text/plain": [
       "<matplotlib.colorbar.Colorbar at 0x7ff12b2e5a50>"
      ]
     },
     "execution_count": 10,
     "metadata": {},
     "output_type": "execute_result"
    },
    {
     "data": {
      "image/png": "[encoded data removed]",
      "text/plain": [
       "<Figure size 864x576 with 2 Axes>"
      ]
     },
     "metadata": {
      "needs_background": "light"
     },
     "output_type": "display_data"
    }
   ],
   "source": [
    "cm = plt.cm.get_cmap('RdYlBu')\n",
    "plt.figure(figsize=(12, 8))\n",
    "plt.scatter(data['UV'], data['UG'], c = data['Density'], cmap = cm)\n",
    "plt.title('Relationship between UV and UG', fontsize = 15)\n",
    "plt.xlabel('UV', fontsize = 15)\n",
    "plt.xlim(0, 47)\n",
    "plt.ylabel('UG', fontsize = 15)\n",
    "plt.ylim(-8, 55)\n",
    "plt.colorbar()"
   ]
  },
  {
   "cell_type": "markdown",
   "metadata": {},
   "source": [
    "## Relationship between each structural property and UG/UV"
   ]
  },
  {
   "cell_type": "code",
   "execution_count": 11,
   "metadata": {
    "scrolled": false
   },
   "outputs": [],
   "source": [
    "def single_feature_plot(data, single_feature):\n",
    "    '''Plot the relationship between single feature and UG/UV'''\n",
    "    \n",
    "    # check that the input single_feature has type of str\n",
    "    try:\n",
    "        assert(type(single_feature) == str)\n",
    "    except:\n",
    "        raise TypeError('The input single_feature is not string.')\n",
    "\n",
    "    if single_feature == 'Density':\n",
    "        fig, (ax1, ax2) = plt.subplots(1, 2, figsize = (15, 6))\n",
    "        ax1.scatter(data[single_feature], data['UG'])\n",
    "        ax1.set_xlabel(single_feature, fontsize = 15)\n",
    "        ax1.set_ylabel('UG',fontsize = 15)\n",
    "        ax1.set_title('Relationship between '+single_feature+ ' and UG', fontsize = 15)\n",
    "        ax2.scatter(data[single_feature], data['UV'])\n",
    "        ax2.set_xlabel(single_feature, fontsize = 15)\n",
    "        ax2.set_ylabel('UV', fontsize = 15)\n",
    "        ax2.set_title('Relationship between '+single_feature+ ' and UV', fontsize = 15)\n",
    "    else:\n",
    "        fig, (ax1, ax2) = plt.subplots(1, 2, figsize = (15, 5))\n",
    "        sc1 = ax1.scatter(data[single_feature], data['UG'], c = data['Density'], cmap = cm)\n",
    "        ax1.set_xlabel(single_feature, fontsize = 15)\n",
    "        ax1.set_ylabel('UG',fontsize = 15)\n",
    "        ax1.set_title('Relationship between '+single_feature+ ' and UG', fontsize = 15)\n",
    "        fig.colorbar(sc1, ax = ax1)\n",
    "        sc2 = ax2.scatter(data[single_feature], data['UV'], c = data['Density'], cmap = cm)\n",
    "        ax2.set_xlabel(single_feature, fontsize = 15)\n",
    "        ax2.set_ylabel('UV', fontsize = 15)\n",
    "        ax2.set_title('Relationship between '+single_feature+ ' and UV', fontsize = 15)\n",
    "        fig.colorbar(sc2, ax = ax2)\n",
    "\n",
    "#for single_feature in features_name[:7]:\n",
    "#    single_feature_plot(data, single_feature)"
   ]
  },
  {
   "cell_type": "markdown",
   "metadata": {},
   "source": [
    "## Identify the importance of each feature"
   ]
  },
  {
   "cell_type": "code",
   "execution_count": 12,
   "metadata": {
    "scrolled": true
   },
   "outputs": [
    {
     "data": {
      "text/html": [
       "<div>\n",
       "<style scoped>\n",
       "    .dataframe tbody tr th:only-of-type {\n",
       "        vertical-align: middle;\n",
       "    }\n",
       "\n",
       "    .dataframe tbody tr th {\n",
       "        vertical-align: top;\n",
       "    }\n",
       "\n",
       "    .dataframe thead th {\n",
       "        text-align: right;\n",
       "    }\n",
       "</style>\n",
       "<table border=\"1\" class=\"dataframe\">\n",
       "  <thead>\n",
       "    <tr style=\"text-align: right;\">\n",
       "      <th></th>\n",
       "      <th>UV</th>\n",
       "      <th>UG</th>\n",
       "      <th>Avg_corr</th>\n",
       "    </tr>\n",
       "  </thead>\n",
       "  <tbody>\n",
       "    <tr>\n",
       "      <th>Density</th>\n",
       "      <td>-0.859508</td>\n",
       "      <td>-0.766090</td>\n",
       "      <td>-0.812799</td>\n",
       "    </tr>\n",
       "    <tr>\n",
       "      <th>GSA</th>\n",
       "      <td>0.879863</td>\n",
       "      <td>0.832255</td>\n",
       "      <td>0.856059</td>\n",
       "    </tr>\n",
       "    <tr>\n",
       "      <th>VSA</th>\n",
       "      <td>0.532700</td>\n",
       "      <td>0.083976</td>\n",
       "      <td>0.308338</td>\n",
       "    </tr>\n",
       "    <tr>\n",
       "      <th>VF</th>\n",
       "      <td>0.931162</td>\n",
       "      <td>0.792888</td>\n",
       "      <td>0.862025</td>\n",
       "    </tr>\n",
       "    <tr>\n",
       "      <th>PV</th>\n",
       "      <td>0.531987</td>\n",
       "      <td>0.933700</td>\n",
       "      <td>0.732844</td>\n",
       "    </tr>\n",
       "    <tr>\n",
       "      <th>LCD</th>\n",
       "      <td>0.598503</td>\n",
       "      <td>0.828389</td>\n",
       "      <td>0.713446</td>\n",
       "    </tr>\n",
       "    <tr>\n",
       "      <th>PLD</th>\n",
       "      <td>0.616799</td>\n",
       "      <td>0.826018</td>\n",
       "      <td>0.721409</td>\n",
       "    </tr>\n",
       "  </tbody>\n",
       "</table>\n",
       "</div>"
      ],
      "text/plain": [
       "               UV        UG  Avg_corr\n",
       "Density -0.859508 -0.766090 -0.812799\n",
       "GSA      0.879863  0.832255  0.856059\n",
       "VSA      0.532700  0.083976  0.308338\n",
       "VF       0.931162  0.792888  0.862025\n",
       "PV       0.531987  0.933700  0.732844\n",
       "LCD      0.598503  0.828389  0.713446\n",
       "PLD      0.616799  0.826018  0.721409"
      ]
     },
     "execution_count": 12,
     "metadata": {},
     "output_type": "execute_result"
    }
   ],
   "source": [
    "# calculating the correlation coefficient\n",
    "corr_coefs = []\n",
    "for single_feature in features_name[:7]:\n",
    "    corr_coefs.append([np.corrcoef(data[single_feature],data['UV'])[0][1],np.corrcoef(data[single_feature],data['UG'])[0][1]])\n",
    "\n",
    "df_rs = pd.DataFrame(columns =['UV', 'UG'], data = corr_coefs, index = features_name[:7])\n",
    "df_rs['Avg_corr'] = (df_rs['UV'] + df_rs['UG'])/2\n",
    "df_rs"
   ]
  },
  {
   "cell_type": "markdown",
   "metadata": {},
   "source": [
    "According to the above analysis, density is negatively correlated with UG/UV while other features are positively correlated with UG/UV. However, the linear correlation between the features (except density) and responses are not strong. This can be due to the differences of density. "
   ]
  },
  {
   "cell_type": "code",
   "execution_count": 13,
   "metadata": {},
   "outputs": [
    {
     "name": "stdout",
     "output_type": "stream",
     "text": [
      "Features ranking:\n",
      "   UV + UG: \n",
      "   ['VF', 'GSA', 'Density', 'PV', 'PLD', 'LCD', 'VSA']\n",
      "   UV: \n",
      "   ['VF', 'GSA', 'Density', 'PLD', 'LCD', 'VSA', 'PV']\n",
      "   UG: \n",
      "   ['PV', 'GSA', 'LCD', 'PLD', 'VF', 'Density', 'VSA']\n"
     ]
    }
   ],
   "source": [
    "df_rs_abs = df_rs.copy()\n",
    "df_rs_abs = abs(df_rs_abs) # consider the feature importance as its absolute value\n",
    "df_rs_abs_1 = df_rs_abs.sort_values(by = 'Avg_corr', ascending = False)\n",
    "df_rs_abs_2 = df_rs_abs.sort_values(by = 'UV', ascending = False)\n",
    "df_rs_abs_3 = df_rs_abs.sort_values(by = 'UG', ascending = False)\n",
    "print('Features ranking:')\n",
    "print('   UV + UG: ')\n",
    "print('   '+str(df_rs_abs_1.index.tolist()))\n",
    "print('   UV: ')\n",
    "print('   '+str(df_rs_abs_2.index.tolist()))\n",
    "print('   UG: ')\n",
    "print('   '+str(df_rs_abs_3.index.tolist()))"
   ]
  },
  {
   "cell_type": "markdown",
   "metadata": {},
   "source": [
    "From the above analysis, we can found that the VF has the biggest influence on the overall hydrogen adsorption performance while the VSA has the smallest influence on the overall hydrogen adsorption performance. In terms of UV, the most important factor is VF and the least important is VSA. For UG, the most important factor is PV and the least important one is VSA."
   ]
  },
  {
   "cell_type": "markdown",
   "metadata": {},
   "source": [
    "# Data transformation\n",
    "Data transformation can be hard because it requires to achieve linear relationships between each features and two responses simultaneously. Herein, I try my best to do the data transformation to achieve this by tring both logrithm transformation and power transformation of different values. Only the best results were left in this part."
   ]
  },
  {
   "cell_type": "code",
   "execution_count": 14,
   "metadata": {},
   "outputs": [],
   "source": [
    "# create an empty list to store the transformed average correlation coefficients\n",
    "transformed_avg_corrs = []\n",
    "\n",
    "# Density\n",
    "data_trans = data.copy()\n",
    "data_trans['Density'] = -np.log(data_trans['Density'])\n",
    "val1 = sum([np.corrcoef(data_trans['Density'],data['UV'])[0][1],np.corrcoef(data_trans['Density'],data['UG'])[0][1]])/2\n",
    "transformed_avg_corrs.append(val1)\n",
    "\n",
    "# GSA\n",
    "data_trans['GSA'] = data_trans['GSA']**1.1\n",
    "val2 = sum([np.corrcoef(data_trans['GSA'],data['UV'])[0][1],np.corrcoef(data_trans['GSA'],data['UG'])[0][1]])/2\n",
    "transformed_avg_corrs.append(val2)\n",
    "\n",
    "# VSA\n",
    "data_trans['VSA'] = (data_trans['VSA'])**0.2\n",
    "val3 = sum([np.corrcoef(data_trans['VSA'],data['UV'])[0][1],np.corrcoef(data_trans['VSA'],data['UG'])[0][1]])/2\n",
    "transformed_avg_corrs.append(val3)\n",
    "\n",
    "# VF\n",
    "data_trans['VF'] = (data_trans['VF'])**4.2\n",
    "val4 = sum([np.corrcoef(data_trans['VF'],data['UV'])[0][1],np.corrcoef(data_trans['VF'],data['UG'])[0][1]])/2\n",
    "transformed_avg_corrs.append(val4)\n",
    "\n",
    "# PV\n",
    "data_trans['PV'] = (data_trans['PV'])**0.1\n",
    "val5 = sum([np.corrcoef(data_trans['PV'],data['UV'])[0][1],np.corrcoef(data_trans['PV'],data['UG'])[0][1]])/2\n",
    "transformed_avg_corrs.append(val5)\n",
    "\n",
    "# LCD\n",
    "data_trans['LCD'] = np.log(data_trans['LCD'])\n",
    "val6 = sum([np.corrcoef(data_trans['LCD'],data['UV'])[0][1],np.corrcoef(data_trans['LCD'],data['UG'])[0][1]])/2\n",
    "transformed_avg_corrs.append(val6)\n",
    "\n",
    "# PLD\n",
    "data_trans['PLD'] = np.log(data_trans['PLD'])\n",
    "val7 = sum([np.corrcoef(data_trans['PLD'],data['UV'])[0][1],np.corrcoef(data_trans['PLD'],data['UG'])[0][1]])/2\n",
    "transformed_avg_corrs.append(val7)"
   ]
  },
  {
   "cell_type": "code",
   "execution_count": 15,
   "metadata": {},
   "outputs": [
    {
     "data": {
      "text/html": [
       "<div>\n",
       "<style scoped>\n",
       "    .dataframe tbody tr th:only-of-type {\n",
       "        vertical-align: middle;\n",
       "    }\n",
       "\n",
       "    .dataframe tbody tr th {\n",
       "        vertical-align: top;\n",
       "    }\n",
       "\n",
       "    .dataframe thead th {\n",
       "        text-align: right;\n",
       "    }\n",
       "</style>\n",
       "<table border=\"1\" class=\"dataframe\">\n",
       "  <thead>\n",
       "    <tr style=\"text-align: right;\">\n",
       "      <th></th>\n",
       "      <th>UV</th>\n",
       "      <th>UG</th>\n",
       "      <th>Avg_corr</th>\n",
       "      <th>Transformed_avg_corr</th>\n",
       "    </tr>\n",
       "  </thead>\n",
       "  <tbody>\n",
       "    <tr>\n",
       "      <th>Density</th>\n",
       "      <td>-0.859508</td>\n",
       "      <td>-0.766090</td>\n",
       "      <td>-0.812799</td>\n",
       "      <td>0.888286</td>\n",
       "    </tr>\n",
       "    <tr>\n",
       "      <th>GSA</th>\n",
       "      <td>0.879863</td>\n",
       "      <td>0.832255</td>\n",
       "      <td>0.856059</td>\n",
       "      <td>0.856803</td>\n",
       "    </tr>\n",
       "    <tr>\n",
       "      <th>VSA</th>\n",
       "      <td>0.532700</td>\n",
       "      <td>0.083976</td>\n",
       "      <td>0.308338</td>\n",
       "      <td>0.321852</td>\n",
       "    </tr>\n",
       "    <tr>\n",
       "      <th>VF</th>\n",
       "      <td>0.931162</td>\n",
       "      <td>0.792888</td>\n",
       "      <td>0.862025</td>\n",
       "      <td>0.920270</td>\n",
       "    </tr>\n",
       "    <tr>\n",
       "      <th>PV</th>\n",
       "      <td>0.531987</td>\n",
       "      <td>0.933700</td>\n",
       "      <td>0.732844</td>\n",
       "      <td>0.903927</td>\n",
       "    </tr>\n",
       "    <tr>\n",
       "      <th>LCD</th>\n",
       "      <td>0.598503</td>\n",
       "      <td>0.828389</td>\n",
       "      <td>0.713446</td>\n",
       "      <td>0.755663</td>\n",
       "    </tr>\n",
       "    <tr>\n",
       "      <th>PLD</th>\n",
       "      <td>0.616799</td>\n",
       "      <td>0.826018</td>\n",
       "      <td>0.721409</td>\n",
       "      <td>0.801401</td>\n",
       "    </tr>\n",
       "  </tbody>\n",
       "</table>\n",
       "</div>"
      ],
      "text/plain": [
       "               UV        UG  Avg_corr  Transformed_avg_corr\n",
       "Density -0.859508 -0.766090 -0.812799              0.888286\n",
       "GSA      0.879863  0.832255  0.856059              0.856803\n",
       "VSA      0.532700  0.083976  0.308338              0.321852\n",
       "VF       0.931162  0.792888  0.862025              0.920270\n",
       "PV       0.531987  0.933700  0.732844              0.903927\n",
       "LCD      0.598503  0.828389  0.713446              0.755663\n",
       "PLD      0.616799  0.826018  0.721409              0.801401"
      ]
     },
     "execution_count": 15,
     "metadata": {},
     "output_type": "execute_result"
    }
   ],
   "source": [
    "df_rs['Transformed_avg_corr'] = transformed_avg_corrs\n",
    "df_rs"
   ]
  },
  {
   "cell_type": "code",
   "execution_count": 16,
   "metadata": {},
   "outputs": [
    {
     "name": "stdout",
     "output_type": "stream",
     "text": [
      "Features ranking:\n",
      "   UV + UG -- transformed: \n",
      "   ['VF', 'PV', 'Density', 'GSA', 'PLD', 'LCD', 'VSA']\n"
     ]
    }
   ],
   "source": [
    "df_rs_trans_sort = df_rs.sort_values(by = 'Transformed_avg_corr', ascending = False)\n",
    "print('Features ranking:')\n",
    "print('   UV + UG -- transformed: ')\n",
    "print('   '+str(df_rs_trans_sort.index.tolist()))"
   ]
  },
  {
   "cell_type": "markdown",
   "metadata": {},
   "source": [
    "Transform all the features to have better linear relationship to the 2 responses may lead to higher accuracy of the multi-linear regression model. But whether this assumption is true still requires further modeling work."
   ]
  },
  {
   "cell_type": "markdown",
   "metadata": {},
   "source": [
    "# Linear Regression Models"
   ]
  },
  {
   "cell_type": "code",
   "execution_count": 17,
   "metadata": {},
   "outputs": [],
   "source": [
    "from sklearn.model_selection import train_test_split\n",
    "from sklearn.linear_model import LinearRegression as lr\n",
    "from sklearn.metrics import mean_squared_error\n",
    "from sklearn.multioutput import MultiOutputRegressor as mor\n",
    "from sklearn.linear_model import Ridge\n",
    "from sklearn.linear_model import Lasso\n",
    "from sklearn.model_selection import cross_val_score\n",
    "\n",
    "features_name = data.columns[5:12].tolist()"
   ]
  },
  {
   "cell_type": "markdown",
   "metadata": {},
   "source": [
    "### Steps for MLR\n",
    "Step 1. Tunning the features (done!): \n",
    "* Data transformation or not (done!) -- no data transformation\n",
    "* Number of features (done!) -- 7\n",
    "\n",
    "Step 2. Regularization methods (done!) -- Ridge\n",
    "\n",
    "Step 3. Optimal train/test ratio (done!) -- train_size = 0.9\n",
    "\n",
    "Step 4. Cross validation hyperparameters (done!) -- fold_number = 9 "
   ]
  },
  {
   "cell_type": "markdown",
   "metadata": {},
   "source": [
    "## Step 1. Tunning the features"
   ]
  },
  {
   "cell_type": "code",
   "execution_count": 18,
   "metadata": {},
   "outputs": [],
   "source": [
    "# Pipeline for tunning the features\n",
    "def func_certain_features(features, data):\n",
    "    \n",
    "    train, test = train_test_split(data, train_size = 0.9, random_state=42)\n",
    "    model = mor(lr()).fit(train[features], train[['UV','UG']])\n",
    "    \n",
    "    r2_train = model.score(train[features], train[['UV','UG']])\n",
    "    r2_test = model.score(test[features], test[['UV','UG']])\n",
    "    \n",
    "    rmse_train = mean_squared_error(train[['UV','UG']], model.predict(train[features]), squared = False)\n",
    "    rmse_test = mean_squared_error(test[['UV','UG']], model.predict(test[features]), squared = False)\n",
    "    \n",
    "    return [r2_train, r2_test, rmse_train, rmse_test]\n",
    "    \n",
    "def feature_tun(df_sort, data):\n",
    "    features = df_sort.index.tolist()\n",
    "    \n",
    "    r2s_train = []\n",
    "    r2s_test = []\n",
    "    rmses_train = []\n",
    "    rmses_test = []\n",
    "    \n",
    "    for i in range(1, len(features)+1):\n",
    "        r2_train, r2_test, rmse_train, rmse_test = func_certain_features(features[:i], data)\n",
    "        #print(features[:i])\n",
    "        \n",
    "        r2s_train.append(r2_train)\n",
    "        r2s_test.append(r2_test)\n",
    "        rmses_train.append(rmse_train)\n",
    "        rmses_test.append(rmse_test)\n",
    "    \n",
    "    return [r2s_train, r2s_test, rmses_train, rmses_test]"
   ]
  },
  {
   "cell_type": "markdown",
   "metadata": {},
   "source": [
    "### Basic linear model without data transformation"
   ]
  },
  {
   "cell_type": "code",
   "execution_count": 19,
   "metadata": {},
   "outputs": [
    {
     "data": {
      "text/plain": [
       "[0.7502577892839093,\n",
       " 0.7940389779999042,\n",
       " 0.7943843065104641,\n",
       " 0.9230437378091145,\n",
       " 0.9288577158950734,\n",
       " 0.9398897597500188,\n",
       " 0.9500846700392334]"
      ]
     },
     "execution_count": 19,
     "metadata": {},
     "output_type": "execute_result"
    }
   ],
   "source": [
    "r2s_train, r2s_test, rmses_train, rmses_test = feature_tun(df_rs_abs_1, data)\n",
    "r2s_test"
   ]
  },
  {
   "cell_type": "markdown",
   "metadata": {},
   "source": [
    "### Basic linear models with data transformation"
   ]
  },
  {
   "cell_type": "code",
   "execution_count": 20,
   "metadata": {},
   "outputs": [
    {
     "data": {
      "text/plain": [
       "[0.8472564825859483,\n",
       " 0.8651361888390601,\n",
       " 0.8822313866751184,\n",
       " 0.8964820634047764,\n",
       " 0.8994167970424745,\n",
       " 0.9057534097194689,\n",
       " 0.9413078662426215]"
      ]
     },
     "execution_count": 20,
     "metadata": {},
     "output_type": "execute_result"
    }
   ],
   "source": [
    "r2s_train_trans, r2s_test_trans, rmses_train_trans, rmses_test_trans = feature_tun(df_rs_trans_sort, data_trans)\n",
    "r2s_test_trans"
   ]
  },
  {
   "cell_type": "code",
   "execution_count": 21,
   "metadata": {},
   "outputs": [
    {
     "data": {
      "text/plain": [
       "Text(0.5, 1.0, 'R2 score')"
      ]
     },
     "execution_count": 21,
     "metadata": {},
     "output_type": "execute_result"
    },
    {
     "data": {
      "image/png": "[encoded data removed]",
      "text/plain": [
       "<Figure size 864x576 with 1 Axes>"
      ]
     },
     "metadata": {
      "needs_background": "light"
     },
     "output_type": "display_data"
    }
   ],
   "source": [
    "plt.figure(figsize = (12, 8))\n",
    "plt.plot(np.linspace(1, 7, 7), r2s_train)\n",
    "plt.plot(np.linspace(1, 7, 7), r2s_test)\n",
    "plt.plot(np.linspace(1, 7, 7), r2s_train_trans)\n",
    "plt.plot(np.linspace(1, 7, 7), r2s_test_trans)\n",
    "plt.legend(['r2_train', 'r2_test', 'r2_train_trans', 'r2_test_trans'], fontsize = 12)\n",
    "plt.title('R2 score', fontsize = 18)"
   ]
  },
  {
   "cell_type": "code",
   "execution_count": 22,
   "metadata": {},
   "outputs": [
    {
     "data": {
      "text/plain": [
       "Text(0.5, 1.0, 'RMSE')"
      ]
     },
     "execution_count": 22,
     "metadata": {},
     "output_type": "execute_result"
    },
    {
     "data": {
      "image/png": "[encoded data removed]",
      "text/plain": [
       "<Figure size 864x576 with 1 Axes>"
      ]
     },
     "metadata": {
      "needs_background": "light"
     },
     "output_type": "display_data"
    }
   ],
   "source": [
    "plt.figure(figsize = (12, 8))\n",
    "plt.plot(np.linspace(1, 7, 7), rmses_train)\n",
    "plt.plot(np.linspace(1, 7, 7), rmses_test)\n",
    "plt.plot(np.linspace(1, 7, 7), rmses_train_trans)\n",
    "plt.plot(np.linspace(1, 7, 7), rmses_test_trans)\n",
    "plt.legend(['rmse_train', 'rmse_test', 'rmse_train_trans', 'rmse_test_trans'], fontsize = 12)\n",
    "plt.title('RMSE', fontsize = 18)"
   ]
  },
  {
   "cell_type": "markdown",
   "metadata": {},
   "source": [
    "### Conclusion: \n",
    "* Data transformation doesn't lead to better results for linear models. \n",
    "* 7 features should be all included.\n"
   ]
  },
  {
   "cell_type": "markdown",
   "metadata": {},
   "source": [
    "## Step 2. Regularization method"
   ]
  },
  {
   "cell_type": "code",
   "execution_count": 23,
   "metadata": {},
   "outputs": [
    {
     "data": {
      "text/plain": [
       "['Density', 'GSA', 'VSA', 'VF', 'PV', 'LCD', 'PLD']"
      ]
     },
     "execution_count": 23,
     "metadata": {},
     "output_type": "execute_result"
    }
   ],
   "source": [
    "features_name"
   ]
  },
  {
   "cell_type": "code",
   "execution_count": 24,
   "metadata": {},
   "outputs": [],
   "source": [
    "def reg_method(data, method):\n",
    "    train, test = train_test_split(data, train_size = 0.9, random_state=42)\n",
    "    model = mor(method).fit(train[features_name], train[['UV','UG']])\n",
    "\n",
    "    r2_train = model.score(train[features_name], train[['UV','UG']])\n",
    "    r2_test = model.score(test[features_name], test[['UV','UG']])\n",
    "\n",
    "    rmse_train = mean_squared_error(train[['UV','UG']], model.predict(train[features_name]), squared = False)\n",
    "    rmse_test = mean_squared_error(test[['UV','UG']], model.predict(test[features_name]), squared = False)\n",
    "\n",
    "    print([r2_train, r2_test, rmse_train, rmse_test])\n",
    "    \n",
    "    return [r2_train, r2_test, rmse_train, rmse_test]"
   ]
  },
  {
   "cell_type": "markdown",
   "metadata": {},
   "source": [
    "### 1. Linear Regression model"
   ]
  },
  {
   "cell_type": "code",
   "execution_count": 25,
   "metadata": {},
   "outputs": [
    {
     "name": "stdout",
     "output_type": "stream",
     "text": [
      "[0.9478622668250045, 0.9500846700392329, 1.6573822561707767, 1.6208541762783422]\n"
     ]
    },
    {
     "data": {
      "text/plain": [
       "[0.9478622668250045,\n",
       " 0.9500846700392329,\n",
       " 1.6573822561707767,\n",
       " 1.6208541762783422]"
      ]
     },
     "execution_count": 25,
     "metadata": {},
     "output_type": "execute_result"
    }
   ],
   "source": [
    "reg_method(data, lr())"
   ]
  },
  {
   "cell_type": "markdown",
   "metadata": {},
   "source": [
    "### 2. Ridge"
   ]
  },
  {
   "cell_type": "code",
   "execution_count": 26,
   "metadata": {},
   "outputs": [
    {
     "name": "stdout",
     "output_type": "stream",
     "text": [
      "[0.9478595297107677, 0.9500858389397866, 1.6574257887394663, 1.6208357802062943]\n"
     ]
    },
    {
     "data": {
      "text/plain": [
       "[0.9478595297107677,\n",
       " 0.9500858389397866,\n",
       " 1.6574257887394663,\n",
       " 1.6208357802062943]"
      ]
     },
     "execution_count": 26,
     "metadata": {},
     "output_type": "execute_result"
    }
   ],
   "source": [
    "reg_method(data, Ridge())"
   ]
  },
  {
   "cell_type": "markdown",
   "metadata": {},
   "source": [
    "### 3. LASSO"
   ]
  },
  {
   "cell_type": "code",
   "execution_count": 27,
   "metadata": {},
   "outputs": [
    {
     "name": "stdout",
     "output_type": "stream",
     "text": [
      "[0.8827617380715354, 0.884316176351946, 2.4526749374529673, 2.432737853202511]\n"
     ]
    },
    {
     "data": {
      "text/plain": [
       "[0.8827617380715354, 0.884316176351946, 2.4526749374529673, 2.432737853202511]"
      ]
     },
     "execution_count": 27,
     "metadata": {},
     "output_type": "execute_result"
    }
   ],
   "source": [
    "reg_method(data, Lasso())"
   ]
  },
  {
   "cell_type": "markdown",
   "metadata": {},
   "source": [
    "### Conclusion:\n",
    "Considering the performance on the test set: Ridge is the best. Lasso is worst. Select Ridge. "
   ]
  },
  {
   "cell_type": "markdown",
   "metadata": {},
   "source": [
    "## Step 3. Determine the optimal train_test_ratio"
   ]
  },
  {
   "cell_type": "code",
   "execution_count": 99,
   "metadata": {},
   "outputs": [],
   "source": [
    "train_test_ratios = np.linspace(0.1, 0.9, 9)\n",
    "\n",
    "r2_trains = []\n",
    "r2_tests = []\n",
    "rmse_trains = []\n",
    "rmse_tests = []\n",
    "\n",
    "for ratio in train_test_ratios:\n",
    "    train, test = train_test_split(data, train_size = ratio, random_state=42)\n",
    "    model = mor(Ridge()).fit(train[features_name], train[['UV','UG']])\n",
    "    \n",
    "    r2_trains.append(model.score(train[features_name], train[['UV','UG']]))\n",
    "    r2_tests.append(model.score(test[features_name], test[['UV','UG']]))\n",
    "\n",
    "    RMSE_train = mean_squared_error(train[['UV','UG']], model.predict(train[features_name]), squared = False)\n",
    "    rmse_trains.append(RMSE_train)\n",
    "    RMSE_test = mean_squared_error(test[['UV','UG']], model.predict(test[features_name]), squared = False)\n",
    "    rmse_tests.append(RMSE_test)"
   ]
  },
  {
   "cell_type": "code",
   "execution_count": 100,
   "metadata": {},
   "outputs": [
    {
     "data": {
      "text/plain": [
       "[<matplotlib.lines.Line2D at 0x7ff12dfdea10>]"
      ]
     },
     "execution_count": 100,
     "metadata": {},
     "output_type": "execute_result"
    },
    {
     "data": {
      "image/png": "[encoded data removed]",
      "text/plain": [
       "<Figure size 432x288 with 1 Axes>"
      ]
     },
     "metadata": {
      "needs_background": "light"
     },
     "output_type": "display_data"
    }
   ],
   "source": [
    "plt.plot(train_test_ratios, r2_trains)"
   ]
  },
  {
   "cell_type": "code",
   "execution_count": 101,
   "metadata": {},
   "outputs": [
    {
     "data": {
      "text/plain": [
       "[0.9477194690053818,\n",
       " 0.9477008692554312,\n",
       " 0.947714593501822,\n",
       " 0.947932692207528,\n",
       " 0.9475827705839377,\n",
       " 0.9478252933607738,\n",
       " 0.9477403681697011,\n",
       " 0.9480255834129019,\n",
       " 0.9500858389397866]"
      ]
     },
     "execution_count": 101,
     "metadata": {},
     "output_type": "execute_result"
    }
   ],
   "source": [
    "r2_tests"
   ]
  },
  {
   "cell_type": "code",
   "execution_count": 30,
   "metadata": {},
   "outputs": [
    {
     "data": {
      "text/plain": [
       "[<matplotlib.lines.Line2D at 0x7ff128e36b50>]"
      ]
     },
     "execution_count": 30,
     "metadata": {},
     "output_type": "execute_result"
    },
    {
     "data": {
      "image/png": "[encoded data removed]",
      "text/plain": [
       "<Figure size 432x288 with 1 Axes>"
      ]
     },
     "metadata": {
      "needs_background": "light"
     },
     "output_type": "display_data"
    }
   ],
   "source": [
    "plt.plot(train_test_ratios, r2_tests)"
   ]
  },
  {
   "cell_type": "code",
   "execution_count": 31,
   "metadata": {},
   "outputs": [
    {
     "data": {
      "text/plain": [
       "[<matplotlib.lines.Line2D at 0x7ff12977c050>]"
      ]
     },
     "execution_count": 31,
     "metadata": {},
     "output_type": "execute_result"
    },
    {
     "data": {
      "image/png": "[encoded data removed]",
      "text/plain": [
       "<Figure size 432x288 with 1 Axes>"
      ]
     },
     "metadata": {
      "needs_background": "light"
     },
     "output_type": "display_data"
    }
   ],
   "source": [
    "plt.plot(train_test_ratios, rmse_trains)"
   ]
  },
  {
   "cell_type": "code",
   "execution_count": 32,
   "metadata": {},
   "outputs": [
    {
     "data": {
      "text/plain": [
       "[<matplotlib.lines.Line2D at 0x7ff129c27b50>]"
      ]
     },
     "execution_count": 32,
     "metadata": {},
     "output_type": "execute_result"
    },
    {
     "data": {
      "image/png": "[encoded data removed]",
      "text/plain": [
       "<Figure size 432x288 with 1 Axes>"
      ]
     },
     "metadata": {
      "needs_background": "light"
     },
     "output_type": "display_data"
    }
   ],
   "source": [
    "plt.plot(train_test_ratios, rmse_tests)"
   ]
  },
  {
   "cell_type": "markdown",
   "metadata": {},
   "source": [
    "### Conclusion:\n",
    "Optimal value of train_size = 0.9 considering the generalization ability of the model."
   ]
  },
  {
   "cell_type": "markdown",
   "metadata": {},
   "source": [
    "## Step 4. Cross Validation or not"
   ]
  },
  {
   "cell_type": "markdown",
   "metadata": {},
   "source": [
    "### Models with validation"
   ]
  },
  {
   "cell_type": "code",
   "execution_count": 107,
   "metadata": {},
   "outputs": [],
   "source": [
    "def cv_data(array):\n",
    "    #array_fold = array_ratio.copy()\n",
    "    \n",
    "    for i in range(len(array)):\n",
    "        array[i] = np.mean(array[i])\n",
    "    \n",
    "    index = array.index(max(array))\n",
    "            \n",
    "    return [index+2, max(array), array]"
   ]
  },
  {
   "cell_type": "code",
   "execution_count": 108,
   "metadata": {},
   "outputs": [],
   "source": [
    "from sklearn.model_selection import KFold\n",
    "\n",
    "fold_number = np.linspace(2, 10, 9)\n",
    "\n",
    "def CV(method):\n",
    "    \n",
    "    r2_trains = [] \n",
    "    r2_vals = [] \n",
    "    r2_tests = [] \n",
    "\n",
    "    for fold in fold_number:\n",
    "        trains_fold= []\n",
    "        vals_fold = []\n",
    "        tests_fold = []\n",
    "\n",
    "        kf = KFold(n_splits=int(fold), shuffle = True)\n",
    "\n",
    "        for train_index, test_index in kf.split(data):\n",
    "            X_train, X_val = data.iloc[train_index], data.iloc[test_index]\n",
    "            y_train, y_val = data.iloc[train_index], data.iloc[test_index]\n",
    "\n",
    "            model = mor(method).fit(X_train[features_name], y_train[['UV','UG']])\n",
    "\n",
    "        trains_fold.append(cross_val_score(model, X_train[features_name], y_train[['UV','UG']], cv = kf))\n",
    "        vals_fold.append(cross_val_score(model, X_val[features_name], y_val[['UV','UG']], cv = kf))\n",
    "        tests_fold.append(cross_val_score(model, test[features_name], test[['UV','UG']], cv = kf))\n",
    "\n",
    "        r2_trains.append(trains_fold)\n",
    "        r2_vals.append(vals_fold)\n",
    "        r2_tests.append(tests_fold)\n",
    "        \n",
    "    return [r2_trains, r2_vals, r2_tests]"
   ]
  },
  {
   "cell_type": "markdown",
   "metadata": {},
   "source": [
    "### LR"
   ]
  },
  {
   "cell_type": "code",
   "execution_count": 113,
   "metadata": {},
   "outputs": [
    {
     "name": "stdout",
     "output_type": "stream",
     "text": [
      "[0.9504986487659498, 0.9501560848918226, 0.9502052430642646, 0.9501505091734314, 0.9503521709897693, 0.9503369197046976, 0.9502180246868789, 0.9501563111970415, 0.950091454807138, 0.950008730468825, 0.9500655338880316]\n",
      "[2, 5, 3, 7, 5, 2, 3, 2, 9, 8, 9]\n"
     ]
    }
   ],
   "source": [
    "lr_score = []\n",
    "lr_index = []\n",
    "for i in range(11):\n",
    "    _, _, r2_tests_lr = CV(lr())\n",
    "    opt_index, max_arr, array = cv_data(r2_tests_lr)\n",
    "    lr_index.append(opt_index)\n",
    "    lr_score.append(max_arr)\n",
    "print(lr_score)\n",
    "print(lr_index)"
   ]
  },
  {
   "cell_type": "markdown",
   "metadata": {},
   "source": [
    "### Ridge"
   ]
  },
  {
   "cell_type": "code",
   "execution_count": 114,
   "metadata": {},
   "outputs": [
    {
     "name": "stdout",
     "output_type": "stream",
     "text": [
      "[0.9498251202771856, 0.9498426071454452, 0.9497582578950917, 0.9497926637594439, 0.9497905948002835, 0.9498377649204941, 0.9498300226159963, 0.9498791525499783, 0.9499004962495012, 0.9498301866164611, 0.9498173832988674]\n",
      "[3, 6, 9, 5, 6, 9, 6, 4, 10, 4, 7]\n"
     ]
    }
   ],
   "source": [
    "r_score = []\n",
    "r_index = []\n",
    "for i in range(11):\n",
    "    _, _, r2_tests_ridge = CV(Ridge())\n",
    "    opt_index, max_arr, array = cv_data(r2_tests_ridge)\n",
    "    r_index.append(opt_index)\n",
    "    r_score.append(max_arr)\n",
    "print(r_score)\n",
    "print(r_index)"
   ]
  },
  {
   "cell_type": "markdown",
   "metadata": {},
   "source": [
    "### LASSO"
   ]
  },
  {
   "cell_type": "code",
   "execution_count": 115,
   "metadata": {},
   "outputs": [
    {
     "name": "stdout",
     "output_type": "stream",
     "text": [
      "[0.8859214053780203, 0.886118366732536, 0.8863296135487233, 0.8858936839373962, 0.8867093234157539, 0.8857513231873995, 0.8857191944423217, 0.8856418112035396, 0.8862939530809362, 0.8855410434599446, 0.8863722527640983]\n",
      "[3, 3, 3, 3, 2, 2, 2, 3, 2, 3, 2]\n"
     ]
    }
   ],
   "source": [
    "l_score = []\n",
    "l_index = []\n",
    "for i in range(11):\n",
    "    _, _, r2_tests_l = CV(Lasso())\n",
    "    opt_index, max_arr, array = cv_data(r2_tests_l)\n",
    "    l_index.append(opt_index)\n",
    "    l_score.append(max_arr)\n",
    "print(l_score)\n",
    "print(l_index)"
   ]
  },
  {
   "cell_type": "markdown",
   "metadata": {},
   "source": [
    "### Conclusion:\n",
    "No optimal fold number. Random sampling can leads to random optimal fold number."
   ]
  },
  {
   "cell_type": "markdown",
   "metadata": {},
   "source": [
    "# Conclusion of MLR"
   ]
  },
  {
   "cell_type": "markdown",
   "metadata": {},
   "source": [
    "* Some models has r2 score higher than 0.95 on test set:\n",
    "1. train_size = 0.9, LR + CV.\n",
    "1. train_size = 0.9, Ridge\n",
    "* The ceiling of r2 score on test set of this dataset using MLR is about 0.95.\n",
    "* Ridge + CV starts to behave a little bit overfitting as its r2 score on test set is lower than pure Ridge."
   ]
  }
 ],
 "metadata": {
  "kernelspec": {
   "display_name": "Python 3",
   "language": "python",
   "name": "python3"
  },
  "language_info": {
   "codemirror_mode": {
    "name": "ipython",
    "version": 3
   },
   "file_extension": ".py",
   "mimetype": "text/x-python",
   "name": "python",
   "nbconvert_exporter": "python",
   "pygments_lexer": "ipython3",
   "version": "3.7.7"
  }
 },
 "nbformat": 4,
 "nbformat_minor": 4
}
